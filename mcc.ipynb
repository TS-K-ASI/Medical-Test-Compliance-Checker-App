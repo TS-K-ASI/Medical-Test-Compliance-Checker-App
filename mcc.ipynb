{
 "cells": [
  {
   "cell_type": "code",
   "execution_count": 1,
   "metadata": {},
   "outputs": [
    {
     "data": {
      "text/plain": [
       "True"
      ]
     },
     "execution_count": 1,
     "metadata": {},
     "output_type": "execute_result"
    }
   ],
   "source": [
    "import base64\n",
    "import os\n",
    "from google import genai\n",
    "from google.genai import types\n",
    "from dotenv import load_dotenv\n",
    "import pandas as pd\n",
    "from sklearn.metrics import accuracy_score, precision_score, recall_score, f1_score\n",
    "\n",
    "load_dotenv()"
   ]
  },
  {
   "cell_type": "code",
   "execution_count": 198,
   "metadata": {},
   "outputs": [],
   "source": [
    "def medical_compliance_checker(region, user_input):\n",
    "\n",
    "\n",
    "    prompt = f\"\"\"\n",
    "    You are a compliance expert specializing in medical regulatory standards. Evaluate the following medical claim for compliance based on {region} regulations. Return either 'Compliant' or 'Non-Compliant' along with a brief reason only if non-compliant.\n",
    "\n",
    "    Example Medical Claim: This drug guarantees 100% effectiveness in curing diabetes.\n",
    "    \n",
    "    Answer Format:\n",
    "\n",
    "    Classification: [Compliant / Non-Compliant]\n",
    "\n",
    "    Explanation: [Brief reason for classification only if Non-Compliant]\n",
    "\n",
    "    Example Classification: Non-Compliant\n",
    "\n",
    "    Example Explanation: Absolute claims are not allowed.\n",
    "\n",
    "    Now, Evaluate the following medical claim:\n",
    "\n",
    "    Medical Claim: {user_input}\n",
    "\n",
    "    Classification: \n",
    "\n",
    "    Explanation: \n",
    "    \"\"\"\n",
    "\n",
    "    client = genai.Client(\n",
    "        api_key=os.getenv(\"GEMINI_API_KEY\")\n",
    "    )\n",
    "\n",
    "    model = \"gemini-2.0-flash\"\n",
    "    contents = [\n",
    "        types.Content(\n",
    "            role=\"user\",\n",
    "            parts=[\n",
    "                types.Part.from_text(text=prompt),\n",
    "            ],\n",
    "        ),\n",
    "    ]\n",
    "    generate_content_config = types.GenerateContentConfig(\n",
    "        temperature=0.5,\n",
    "        top_p=0.95,\n",
    "        top_k=40,\n",
    "        max_output_tokens=4096,\n",
    "        response_mime_type=\"text/plain\",\n",
    "    )\n",
    "\n",
    "    model_response = \"\"\n",
    "    \n",
    "    for chunk in client.models.generate_content_stream(\n",
    "        model=model,\n",
    "        contents=contents,\n",
    "        config=generate_content_config,\n",
    "    ):\n",
    "        # print(chunk.text, end=\"\", flush=True)\n",
    "        model_response += chunk.text\n",
    "    \n",
    "    classification = model_response.split(\"Classification:\")[1].split(\"\\n\")[0].strip()\n",
    "    explanation = model_response.split(\"Explanation:\")[1].strip()\n",
    "    \n",
    "    return classification, explanation"
   ]
  },
  {
   "cell_type": "code",
   "execution_count": null,
   "metadata": {},
   "outputs": [],
   "source": [
    "if __name__ == \"__main__\":\n",
    "    # Enter Region FDA (US), EMA (Europe), or HSA (Singapore).\n",
    "    region = input(\"Enter Region: \")\n",
    "    user_input = input(\"Type: \")\n",
    "    classification, explanation = medical_compliance_checker(region, user_input)"
   ]
  },
  {
   "cell_type": "markdown",
   "metadata": {},
   "source": [
    "Created Synthetic data from PubMed which is a search engine maintained by US National Library that provides access to biomedical and life science research articles."
   ]
  },
  {
   "cell_type": "code",
   "execution_count": 141,
   "metadata": {},
   "outputs": [],
   "source": [
    "df = pd.read_csv('synthetic_medical_claims_1.csv')"
   ]
  },
  {
   "cell_type": "markdown",
   "metadata": {},
   "source": [
    "Creating New columns Model_Classified_As and Model_Response and iterated over the dataset to get generation for each row to check accuracy."
   ]
  },
  {
   "cell_type": "code",
   "execution_count": null,
   "metadata": {},
   "outputs": [],
   "source": [
    "for i in range(len(df)):\n",
    "    df.loc[i,'Model_Classified_As'], df.loc[i, 'Model_Response'] = medical_compliance_checker(region='FDA', user_input=df['Claim'][i])"
   ]
  },
  {
   "cell_type": "code",
   "execution_count": 143,
   "metadata": {},
   "outputs": [
    {
     "data": {
      "text/html": [
       "<div>\n",
       "<style scoped>\n",
       "    .dataframe tbody tr th:only-of-type {\n",
       "        vertical-align: middle;\n",
       "    }\n",
       "\n",
       "    .dataframe tbody tr th {\n",
       "        vertical-align: top;\n",
       "    }\n",
       "\n",
       "    .dataframe thead th {\n",
       "        text-align: right;\n",
       "    }\n",
       "</style>\n",
       "<table border=\"1\" class=\"dataframe\">\n",
       "  <thead>\n",
       "    <tr style=\"text-align: right;\">\n",
       "      <th></th>\n",
       "      <th>Claim</th>\n",
       "      <th>Compliance</th>\n",
       "      <th>Model_Classified_As</th>\n",
       "      <th>Model_Response</th>\n",
       "    </tr>\n",
       "  </thead>\n",
       "  <tbody>\n",
       "    <tr>\n",
       "      <th>0</th>\n",
       "      <td>Unicompartmental knee arthroplasty (UKA) is a ...</td>\n",
       "      <td>Compliant</td>\n",
       "      <td>Compliant</td>\n",
       "      <td>N/A</td>\n",
       "    </tr>\n",
       "    <tr>\n",
       "      <th>1</th>\n",
       "      <td>Our weight loss supplement melts fat instantly...</td>\n",
       "      <td>Non-Compliant</td>\n",
       "      <td>Non-Compliant</td>\n",
       "      <td>This claim makes unsubstantiated claims of ins...</td>\n",
       "    </tr>\n",
       "    <tr>\n",
       "      <th>2</th>\n",
       "      <td>This product reverses aging and guarantees a y...</td>\n",
       "      <td>Non-Compliant</td>\n",
       "      <td>Non-Compliant</td>\n",
       "      <td>Claims of reversing aging and guaranteeing a y...</td>\n",
       "    </tr>\n",
       "    <tr>\n",
       "      <th>3</th>\n",
       "      <td>Rehabilitation following total knee arthroplas...</td>\n",
       "      <td>Compliant</td>\n",
       "      <td>Compliant</td>\n",
       "      <td>N/A</td>\n",
       "    </tr>\n",
       "    <tr>\n",
       "      <th>4</th>\n",
       "      <td>This drug guarantees 100% effectiveness in cur...</td>\n",
       "      <td>Non-Compliant</td>\n",
       "      <td>Non-Compliant</td>\n",
       "      <td>Absolute claims are not allowed.</td>\n",
       "    </tr>\n",
       "    <tr>\n",
       "      <th>5</th>\n",
       "      <td>Knee pain is a highly prevalent condition in t...</td>\n",
       "      <td>Compliant</td>\n",
       "      <td>Compliant</td>\n",
       "      <td>N/A</td>\n",
       "    </tr>\n",
       "    <tr>\n",
       "      <th>6</th>\n",
       "      <td>Clinical studies show this knee surgery has a ...</td>\n",
       "      <td>Compliant</td>\n",
       "      <td>Compliant</td>\n",
       "      <td></td>\n",
       "    </tr>\n",
       "    <tr>\n",
       "      <th>7</th>\n",
       "      <td>Coronal plane alignment of the knee (CPAK) has...</td>\n",
       "      <td>Compliant</td>\n",
       "      <td>Compliant</td>\n",
       "      <td>N/A</td>\n",
       "    </tr>\n",
       "    <tr>\n",
       "      <th>8</th>\n",
       "      <td>No other drug on the market works as fast as o...</td>\n",
       "      <td>Non-Compliant</td>\n",
       "      <td>Non-Compliant</td>\n",
       "      <td>Makes unsubstantiated superiority and efficacy...</td>\n",
       "    </tr>\n",
       "    <tr>\n",
       "      <th>9</th>\n",
       "      <td>Take this pill and never worry about heart dis...</td>\n",
       "      <td>Non-Compliant</td>\n",
       "      <td>Non-Compliant</td>\n",
       "      <td>This claim makes an absolute and unsubstantiat...</td>\n",
       "    </tr>\n",
       "    <tr>\n",
       "      <th>10</th>\n",
       "      <td>This medicine permanently eliminates high bloo...</td>\n",
       "      <td>Non-Compliant</td>\n",
       "      <td>Non-Compliant</td>\n",
       "      <td>The claim makes an unsubstantiated and absolut...</td>\n",
       "    </tr>\n",
       "    <tr>\n",
       "      <th>11</th>\n",
       "      <td>Given that pain relief is often the primary go...</td>\n",
       "      <td>Compliant</td>\n",
       "      <td>Compliant</td>\n",
       "      <td>N/A</td>\n",
       "    </tr>\n",
       "    <tr>\n",
       "      <th>12</th>\n",
       "      <td>Our pain relief cream is the most advanced in ...</td>\n",
       "      <td>Non-Compliant</td>\n",
       "      <td>Non-Compliant</td>\n",
       "      <td>Superlative claims are difficult to substantia...</td>\n",
       "    </tr>\n",
       "    <tr>\n",
       "      <th>13</th>\n",
       "      <td>Guaranteed relief from all chronic pain within...</td>\n",
       "      <td>Non-Compliant</td>\n",
       "      <td>Non-Compliant</td>\n",
       "      <td>Guarantees and absolute claims are not allowed.</td>\n",
       "    </tr>\n",
       "    <tr>\n",
       "      <th>14</th>\n",
       "      <td>Lack of full extension of the knee is a disabl...</td>\n",
       "      <td>Compliant</td>\n",
       "      <td>Non-Compliant</td>\n",
       "      <td>The claim states that posterior capsulotomy \"p...</td>\n",
       "    </tr>\n",
       "    <tr>\n",
       "      <th>15</th>\n",
       "      <td>This treatment is better than all others avail...</td>\n",
       "      <td>Non-Compliant</td>\n",
       "      <td>Non-Compliant</td>\n",
       "      <td>Superlative claims are difficult to substantia...</td>\n",
       "    </tr>\n",
       "    <tr>\n",
       "      <th>16</th>\n",
       "      <td>This supplement will prevent heart attacks.</td>\n",
       "      <td>Non-Compliant</td>\n",
       "      <td>Non-Compliant</td>\n",
       "      <td>Claims to prevent a disease are drug claims, r...</td>\n",
       "    </tr>\n",
       "    <tr>\n",
       "      <th>17</th>\n",
       "      <td>Our herbal remedy is a miracle cure for cancer.</td>\n",
       "      <td>Non-Compliant</td>\n",
       "      <td>Non-Compliant</td>\n",
       "      <td>\"Miracle cure\" claims are not allowed as they ...</td>\n",
       "    </tr>\n",
       "    <tr>\n",
       "      <th>18</th>\n",
       "      <td>Many different techniques with multiple graft ...</td>\n",
       "      <td>Compliant</td>\n",
       "      <td>Compliant</td>\n",
       "      <td>N/A</td>\n",
       "    </tr>\n",
       "  </tbody>\n",
       "</table>\n",
       "</div>"
      ],
      "text/plain": [
       "                                                Claim     Compliance  \\\n",
       "0   Unicompartmental knee arthroplasty (UKA) is a ...      Compliant   \n",
       "1   Our weight loss supplement melts fat instantly...  Non-Compliant   \n",
       "2   This product reverses aging and guarantees a y...  Non-Compliant   \n",
       "3   Rehabilitation following total knee arthroplas...      Compliant   \n",
       "4   This drug guarantees 100% effectiveness in cur...  Non-Compliant   \n",
       "5   Knee pain is a highly prevalent condition in t...      Compliant   \n",
       "6   Clinical studies show this knee surgery has a ...      Compliant   \n",
       "7   Coronal plane alignment of the knee (CPAK) has...      Compliant   \n",
       "8   No other drug on the market works as fast as o...  Non-Compliant   \n",
       "9   Take this pill and never worry about heart dis...  Non-Compliant   \n",
       "10  This medicine permanently eliminates high bloo...  Non-Compliant   \n",
       "11  Given that pain relief is often the primary go...      Compliant   \n",
       "12  Our pain relief cream is the most advanced in ...  Non-Compliant   \n",
       "13  Guaranteed relief from all chronic pain within...  Non-Compliant   \n",
       "14  Lack of full extension of the knee is a disabl...      Compliant   \n",
       "15  This treatment is better than all others avail...  Non-Compliant   \n",
       "16        This supplement will prevent heart attacks.  Non-Compliant   \n",
       "17    Our herbal remedy is a miracle cure for cancer.  Non-Compliant   \n",
       "18  Many different techniques with multiple graft ...      Compliant   \n",
       "\n",
       "   Model_Classified_As                                     Model_Response  \n",
       "0            Compliant                                                N/A  \n",
       "1        Non-Compliant  This claim makes unsubstantiated claims of ins...  \n",
       "2        Non-Compliant  Claims of reversing aging and guaranteeing a y...  \n",
       "3            Compliant                                                N/A  \n",
       "4        Non-Compliant                   Absolute claims are not allowed.  \n",
       "5            Compliant                                                N/A  \n",
       "6            Compliant                                                     \n",
       "7            Compliant                                                N/A  \n",
       "8        Non-Compliant  Makes unsubstantiated superiority and efficacy...  \n",
       "9        Non-Compliant  This claim makes an absolute and unsubstantiat...  \n",
       "10       Non-Compliant  The claim makes an unsubstantiated and absolut...  \n",
       "11           Compliant                                                N/A  \n",
       "12       Non-Compliant  Superlative claims are difficult to substantia...  \n",
       "13       Non-Compliant    Guarantees and absolute claims are not allowed.  \n",
       "14       Non-Compliant  The claim states that posterior capsulotomy \"p...  \n",
       "15       Non-Compliant  Superlative claims are difficult to substantia...  \n",
       "16       Non-Compliant  Claims to prevent a disease are drug claims, r...  \n",
       "17       Non-Compliant  \"Miracle cure\" claims are not allowed as they ...  \n",
       "18           Compliant                                                N/A  "
      ]
     },
     "execution_count": 143,
     "metadata": {},
     "output_type": "execute_result"
    }
   ],
   "source": [
    "df"
   ]
  },
  {
   "cell_type": "code",
   "execution_count": 195,
   "metadata": {},
   "outputs": [
    {
     "data": {
      "text/plain": [
       "(Compliance\n",
       " Non-Compliant    11\n",
       " Compliant         8\n",
       " Name: count, dtype: int64,\n",
       " Model_Classified_As\n",
       " Non-Compliant    12\n",
       " Compliant         7\n",
       " Name: count, dtype: int64)"
      ]
     },
     "execution_count": 195,
     "metadata": {},
     "output_type": "execute_result"
    }
   ],
   "source": [
    "# To check counts of each class in each column\n",
    "df['Compliance'].value_counts(), df['Model_Classified_As'].value_counts()"
   ]
  },
  {
   "cell_type": "code",
   "execution_count": null,
   "metadata": {},
   "outputs": [],
   "source": [
    "# save to disk\n",
    "# df.to_csv('Model_Evaluation.csv', index=False)"
   ]
  },
  {
   "cell_type": "code",
   "execution_count": null,
   "metadata": {},
   "outputs": [],
   "source": [
    "model_eval = pd.read_csv('Model_Evaluation.csv')"
   ]
  },
  {
   "cell_type": "markdown",
   "metadata": {},
   "source": [
    "ACCURACY"
   ]
  },
  {
   "cell_type": "code",
   "execution_count": null,
   "metadata": {},
   "outputs": [],
   "source": [
    "# Extract Compliance and Model_Classified_As from dataframe and store it into a list\n",
    "labels = df['Compliance'].tolist()\n",
    "model_classifications = df['Model_Classified_As'].tolist()\n",
    "# Convert all values to lower case to maintain uniformity\n",
    "labels = [i.lower().strip() for i in labels]\n",
    "model_classifications = [i.lower().strip() for i in model_classifications]"
   ]
  },
  {
   "cell_type": "code",
   "execution_count": 184,
   "metadata": {},
   "outputs": [
    {
     "name": "stdout",
     "output_type": "stream",
     "text": [
      "Accuracy: 0.95\n",
      "Precision: 0.92\n",
      "Recall: 1.00\n",
      "F1-Score: 0.96\n"
     ]
    }
   ],
   "source": [
    "accuracy = accuracy_score(labels, model_classifications)\n",
    "precision = precision_score(labels, model_classifications, pos_label=\"non-compliant\")\n",
    "recall = recall_score(labels, model_classifications, pos_label=\"non-compliant\")\n",
    "f1 = f1_score(labels, model_classifications, pos_label=\"non-compliant\")\n",
    "\n",
    "print(f\"Accuracy: {accuracy:.2f}\")\n",
    "print(f\"Precision: {precision:.2f}\")\n",
    "print(f\"Recall: {recall:.2f}\")\n",
    "print(f\"F1-Score: {f1:.2f}\")"
   ]
  }
 ],
 "metadata": {
  "kernelspec": {
   "display_name": "_500+",
   "language": "python",
   "name": "python3"
  },
  "language_info": {
   "codemirror_mode": {
    "name": "ipython",
    "version": 3
   },
   "file_extension": ".py",
   "mimetype": "text/x-python",
   "name": "python",
   "nbconvert_exporter": "python",
   "pygments_lexer": "ipython3",
   "version": "3.10.0"
  }
 },
 "nbformat": 4,
 "nbformat_minor": 2
}
